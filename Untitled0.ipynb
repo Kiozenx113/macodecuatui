{
  "nbformat": 4,
  "nbformat_minor": 0,
  "metadata": {
    "colab": {
      "provenance": [],
      "authorship_tag": "ABX9TyMTQab8oklCUB/fZRR6oleA",
      "include_colab_link": true
    },
    "kernelspec": {
      "name": "python3",
      "display_name": "Python 3"
    },
    "language_info": {
      "name": "python"
    }
  },
  "cells": [
    {
      "cell_type": "markdown",
      "metadata": {
        "id": "view-in-github",
        "colab_type": "text"
      },
      "source": [
        "<a href=\"https://colab.research.google.com/github/Kiozenx113/macodecuatui/blob/kda/Untitled0.ipynb\" target=\"_parent\"><img src=\"https://colab.research.google.com/assets/colab-badge.svg\" alt=\"Open In Colab\"/></a>"
      ]
    },
    {
      "cell_type": "code",
      "execution_count": null,
      "metadata": {
        "colab": {
          "base_uri": "https://localhost:8080/"
        },
        "id": "jTNruy1azZ-U",
        "outputId": "ace099e8-6fb8-42e3-91e2-dab095483eb6"
      },
      "outputs": [
        {
          "output_type": "stream",
          "name": "stdout",
          "text": [
            "65\n",
            "Let's go to school\n"
          ]
        }
      ],
      "source": [
        "\n",
        "temperature=int(input())\n",
        "if temperature>=100:\n",
        " print(\"stay at home and ẹnoy the good movie\")\n",
        "if temperature>=92:\n",
        "  print('Stay at home')\n",
        "if temperature==75:\n",
        "  print('go outside and ẹnoy the weather')\n",
        "if temperature<0:\n",
        "  print(\"it's cool outside\")\n",
        "else :\n",
        "  print(\"Let's go to school\")"
      ]
    },
    {
      "cell_type": "code",
      "source": [
        "print(\"nhập x đi má:\")\n",
        "x=int(input())\n",
        "print(\"nhập y đi nè:\")\n",
        "y=int(input())\n",
        "print(\"nhập z điiii:\")\n",
        "z=int(input())\n",
        "if x%2==0:\n",
        "  print(\"x là số lẻ đó má ơi\")\n",
        "else:\n",
        "  print(\"x là số dì á ????\")\n",
        "if y>=20:\n",
        "  print(\"y lớn hơn hay bằng 20 đó cô gái\")\n",
        "else :\n",
        "  print(\"y ko lớn hơn hay bằng 20 đâu :<\")\n",
        "if z>=30:\n",
        "  print(\"z lớn hơn hoặc bằng 30 nè :3 \")\n",
        "else:\n",
        "  print(\"chắc là z bé hơn 30 rồi\")\n",
        "\n",
        "\n"
      ],
      "metadata": {
        "colab": {
          "base_uri": "https://localhost:8080/"
        },
        "id": "GXjwThJM4I6W",
        "outputId": "6aa4b74d-31f5-4f79-f933-1e3ad8c25a01"
      },
      "execution_count": null,
      "outputs": [
        {
          "output_type": "stream",
          "name": "stdout",
          "text": [
            "nhập x đi má:\n",
            "20\n",
            "nhập y đi nè:\n",
            "60\n",
            "nhập z điiii:\n",
            "90\n",
            "x là số lẻ đó má ơi\n",
            "y lớn hơn hay bằng 20 đó cô gái\n",
            "z lớn hơn hoặc bằng 30 nè :3 \n"
          ]
        }
      ]
    },
    {
      "cell_type": "code",
      "source": [
        "from re import A\n",
        "print(\"nhập tuổi con pet đi má:\")\n",
        "age=int(input())\n",
        "if age<=0:\n",
        " print(\"this can hardly be true\")\n",
        "if age==1:\n",
        "  print('about 1 human year')\n",
        "if age==2:\n",
        "  print('about 2 human years')\n",
        "if age>2:\n",
        "  print(\"over 5 human years\")\n"
      ],
      "metadata": {
        "colab": {
          "base_uri": "https://localhost:8080/"
        },
        "id": "BGySAqIa8pwQ",
        "outputId": "e170e2f1-7be9-4f1c-9011-8248455d40c0"
      },
      "execution_count": null,
      "outputs": [
        {
          "output_type": "stream",
          "name": "stdout",
          "text": [
            "nhập tuổi con petpet đi má:\n",
            "1\n",
            "about 1 human year\n"
          ]
        }
      ]
    }
  ]
}