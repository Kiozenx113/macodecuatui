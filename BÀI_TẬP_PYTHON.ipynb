{
  "nbformat": 4,
  "nbformat_minor": 0,
  "metadata": {
    "colab": {
      "provenance": [],
      "authorship_tag": "ABX9TyPj4/DrZAhqbXm914S9oCo/",
      "include_colab_link": true
    },
    "kernelspec": {
      "name": "python3",
      "display_name": "Python 3"
    },
    "language_info": {
      "name": "python"
    }
  },
  "cells": [
    {
      "cell_type": "markdown",
      "metadata": {
        "id": "view-in-github",
        "colab_type": "text"
      },
      "source": [
        "<a href=\"https://colab.research.google.com/github/Kiozenx113/macodecuatui/blob/main/B%C3%80I_T%E1%BA%ACP_PYTHON.ipynb\" target=\"_parent\"><img src=\"https://colab.research.google.com/assets/colab-badge.svg\" alt=\"Open In Colab\"/></a>"
      ]
    },
    {
      "cell_type": "code",
      "source": [
        "#Bài 1 . Viết hoa toàn bộ chữ cái đầu từ trong câu cho trước nhập vào từ bàn phím. Các chữ cái\n",
        "# còn lại viết thường\n",
        "t = int(input('Nhập 1 câu nào đó:'))\n",
        "for i in range(1, t + 1):\n",
        "    message = input()\n",
        "    print(f\"Test {i}:\")\n",
        "    print(message.title())"
      ],
      "metadata": {
        "id": "pW73s_jx2kBL"
      },
      "execution_count": null,
      "outputs": []
    },
    {
      "cell_type": "code",
      "source": [
        "#câu 9: Đếm số lần xuất hiện của các chữ cái có trong chuỗi kí tự cho trước.\n",
        "def is_existed(data, key, to):\n",
        "    \"\"\"This function check whether or not key exist in list data\"\"\"\n",
        "    for index in range(0, to):\n",
        "        if data[index] == key:\n",
        "            return True\n",
        "    return False\n",
        "\n",
        "\n",
        "def create_unique_characters(data):\n",
        "    \"\"\"This function filter and create a list contain only one-time occurrence characters\"\"\"\n",
        "    result = []\n",
        "    for j in range(0, len(data)):\n",
        "        # if character at j position is alphabet, and doesn't exist before\n",
        "        if data[j].isalpha() and not is_existed(data, data[j], j):\n",
        "            result.append(data[j])\n",
        "    return result\n",
        "\n",
        "\n",
        "def listed_characters(data, unique_data):\n",
        "    \"\"\"This function listed words and number occurent of each character\"\"\"\n",
        "    print(\"[\", end=\"\")\n",
        "    size = len(unique_data)\n",
        "    for j in range(0, size):\n",
        "        print(f\"{unique_data[j]}: {data.count(unique_data[j])}\", end=\"\")\n",
        "        if j < size - 1:\n",
        "            print(\", \", end=\"\")\n",
        "    print(\"]\")\n",
        "\n",
        "\n",
        "t = int(input())\n",
        "for i in range(1, t + 1):\n",
        "    s = input()\n",
        "    print(f\"Test {i}:\")\n",
        "    characters = create_unique_characters(s)\n",
        "    listed_characters(s, characters)"
      ],
      "metadata": {
        "colab": {
          "base_uri": "https://localhost:8080/"
        },
        "id": "Rxie2svK7Std",
        "outputId": "d80761c5-518d-4c78-82de-cd35de997b86"
      },
      "execution_count": 67,
      "outputs": [
        {
          "output_type": "stream",
          "name": "stdout",
          "text": [
            "3\n",
            "kbllknlknlk ,mbk,bkjbkjhjchg\n",
            "Test 1:\n",
            "[k: 7, b: 4, l: 4, n: 2, m: 1, j: 3, h: 2, c: 1, g: 1]\n",
            "jbkjbjbkb hvjvjhvjhvjv jbkblkblkb kjblkblkb\n",
            "Test 2:\n",
            "[j: 9, b: 11, k: 8, h: 3, v: 5, l: 4]\n",
            "lguyvkuvkucv 564465kghvkhv\n",
            "Test 3:\n",
            "[l: 1, g: 2, u: 3, y: 1, v: 5, k: 4, c: 1, h: 2]\n"
          ]
        }
      ]
    },
    {
      "cell_type": "code",
      "source": [
        "# bài 3: Đếm số từ có trong một chuỗi kí tự cho trước nhập vào từ bàn phím.\n",
        "def count_word():\n",
        "  string = input('Nhập chuỗi vào:')\n",
        "  word = string.split()\n",
        "  return len(word)\n",
        "\n",
        "t = int(input('Nhập vào số bộ test:'))\n",
        "for i in range(1,t+1):\n",
        "  result = count_word()\n",
        "  print(f'Test {i}: {result}')"
      ],
      "metadata": {
        "colab": {
          "base_uri": "https://localhost:8080/",
          "height": 380
        },
        "id": "cpsTMZpI6YPV",
        "outputId": "615c4373-e0ca-4670-f47e-bd1916002f26"
      },
      "execution_count": 65,
      "outputs": [
        {
          "output_type": "error",
          "ename": "KeyboardInterrupt",
          "evalue": "ignored",
          "traceback": [
            "\u001b[0;31m---------------------------------------------------------------------------\u001b[0m",
            "\u001b[0;31mKeyboardInterrupt\u001b[0m                         Traceback (most recent call last)",
            "\u001b[0;32m<ipython-input-65-edc857484c3c>\u001b[0m in \u001b[0;36m<module>\u001b[0;34m\u001b[0m\n\u001b[1;32m      5\u001b[0m   \u001b[0;32mreturn\u001b[0m \u001b[0mlen\u001b[0m\u001b[0;34m(\u001b[0m\u001b[0mword\u001b[0m\u001b[0;34m)\u001b[0m\u001b[0;34m\u001b[0m\u001b[0;34m\u001b[0m\u001b[0m\n\u001b[1;32m      6\u001b[0m \u001b[0;34m\u001b[0m\u001b[0m\n\u001b[0;32m----> 7\u001b[0;31m \u001b[0mt\u001b[0m \u001b[0;34m=\u001b[0m \u001b[0mint\u001b[0m\u001b[0;34m(\u001b[0m\u001b[0minput\u001b[0m\u001b[0;34m(\u001b[0m\u001b[0;34m'Nhập vào số bộ test:'\u001b[0m\u001b[0;34m)\u001b[0m\u001b[0;34m)\u001b[0m\u001b[0;34m\u001b[0m\u001b[0;34m\u001b[0m\u001b[0m\n\u001b[0m\u001b[1;32m      8\u001b[0m \u001b[0;32mfor\u001b[0m \u001b[0mi\u001b[0m \u001b[0;32min\u001b[0m \u001b[0mrange\u001b[0m\u001b[0;34m(\u001b[0m\u001b[0;36m1\u001b[0m\u001b[0;34m,\u001b[0m\u001b[0mt\u001b[0m\u001b[0;34m+\u001b[0m\u001b[0;36m1\u001b[0m\u001b[0;34m)\u001b[0m\u001b[0;34m:\u001b[0m\u001b[0;34m\u001b[0m\u001b[0;34m\u001b[0m\u001b[0m\n\u001b[1;32m      9\u001b[0m   \u001b[0mresult\u001b[0m \u001b[0;34m=\u001b[0m \u001b[0mcount_word\u001b[0m\u001b[0;34m(\u001b[0m\u001b[0;34m)\u001b[0m\u001b[0;34m\u001b[0m\u001b[0;34m\u001b[0m\u001b[0m\n",
            "\u001b[0;32m/usr/local/lib/python3.8/dist-packages/ipykernel/kernelbase.py\u001b[0m in \u001b[0;36mraw_input\u001b[0;34m(self, prompt)\u001b[0m\n\u001b[1;32m    858\u001b[0m                 \u001b[0;34m\"raw_input was called, but this frontend does not support input requests.\"\u001b[0m\u001b[0;34m\u001b[0m\u001b[0;34m\u001b[0m\u001b[0m\n\u001b[1;32m    859\u001b[0m             )\n\u001b[0;32m--> 860\u001b[0;31m         return self._input_request(str(prompt),\n\u001b[0m\u001b[1;32m    861\u001b[0m             \u001b[0mself\u001b[0m\u001b[0;34m.\u001b[0m\u001b[0m_parent_ident\u001b[0m\u001b[0;34m,\u001b[0m\u001b[0;34m\u001b[0m\u001b[0;34m\u001b[0m\u001b[0m\n\u001b[1;32m    862\u001b[0m             \u001b[0mself\u001b[0m\u001b[0;34m.\u001b[0m\u001b[0m_parent_header\u001b[0m\u001b[0;34m,\u001b[0m\u001b[0;34m\u001b[0m\u001b[0;34m\u001b[0m\u001b[0m\n",
            "\u001b[0;32m/usr/local/lib/python3.8/dist-packages/ipykernel/kernelbase.py\u001b[0m in \u001b[0;36m_input_request\u001b[0;34m(self, prompt, ident, parent, password)\u001b[0m\n\u001b[1;32m    902\u001b[0m             \u001b[0;32mexcept\u001b[0m \u001b[0mKeyboardInterrupt\u001b[0m\u001b[0;34m:\u001b[0m\u001b[0;34m\u001b[0m\u001b[0;34m\u001b[0m\u001b[0m\n\u001b[1;32m    903\u001b[0m                 \u001b[0;31m# re-raise KeyboardInterrupt, to truncate traceback\u001b[0m\u001b[0;34m\u001b[0m\u001b[0;34m\u001b[0m\u001b[0;34m\u001b[0m\u001b[0m\n\u001b[0;32m--> 904\u001b[0;31m                 \u001b[0;32mraise\u001b[0m \u001b[0mKeyboardInterrupt\u001b[0m\u001b[0;34m(\u001b[0m\u001b[0;34m\"Interrupted by user\"\u001b[0m\u001b[0;34m)\u001b[0m \u001b[0;32mfrom\u001b[0m \u001b[0;32mNone\u001b[0m\u001b[0;34m\u001b[0m\u001b[0;34m\u001b[0m\u001b[0m\n\u001b[0m\u001b[1;32m    905\u001b[0m             \u001b[0;32mexcept\u001b[0m \u001b[0mException\u001b[0m \u001b[0;32mas\u001b[0m \u001b[0me\u001b[0m\u001b[0;34m:\u001b[0m\u001b[0;34m\u001b[0m\u001b[0;34m\u001b[0m\u001b[0m\n\u001b[1;32m    906\u001b[0m                 \u001b[0mself\u001b[0m\u001b[0;34m.\u001b[0m\u001b[0mlog\u001b[0m\u001b[0;34m.\u001b[0m\u001b[0mwarning\u001b[0m\u001b[0;34m(\u001b[0m\u001b[0;34m\"Invalid Message:\"\u001b[0m\u001b[0;34m,\u001b[0m \u001b[0mexc_info\u001b[0m\u001b[0;34m=\u001b[0m\u001b[0;32mTrue\u001b[0m\u001b[0;34m)\u001b[0m\u001b[0;34m\u001b[0m\u001b[0;34m\u001b[0m\u001b[0m\n",
            "\u001b[0;31mKeyboardInterrupt\u001b[0m: Interrupted by user"
          ]
        }
      ]
    }
  ]
}