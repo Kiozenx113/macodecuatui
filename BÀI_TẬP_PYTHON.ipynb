{
  "nbformat": 4,
  "nbformat_minor": 0,
  "metadata": {
    "colab": {
      "provenance": [],
      "authorship_tag": "ABX9TyPj4/DrZAhqbXm914S9oCo/",
      "include_colab_link": true
    },
    "kernelspec": {
      "name": "python3",
      "display_name": "Python 3"
    },
    "language_info": {
      "name": "python"
    }
  },
  "cells": [
    {
      "cell_type": "markdown",
      "metadata": {
        "id": "view-in-github",
        "colab_type": "text"
      },
      "source": [
        "<a href=\"https://colab.research.google.com/github/Kiozenx113/macodecuatui/blob/main/B%C3%80I_T%E1%BA%ACP_PYTHON.ipynb\" target=\"_parent\"><img src=\"https://colab.research.google.com/assets/colab-badge.svg\" alt=\"Open In Colab\"/></a>"
      ]
    },
    {
      "cell_type": "code",
      "source": [
        "#Bài 1 . Viết hoa toàn bộ chữ cái đầu từ trong câu cho trước nhập vào từ bàn phím. Các chữ cái\n",
        "# còn lại viết thường\n",
        "t = int(input('Nhập 1 câu nào đó:'))\n",
        "for i in range(1, t + 1):\n",
        "    message = input()\n",
        "    print(f\"Test {i}:\")\n",
        "    print(message.title())"
      ],
      "metadata": {
        "id": "pW73s_jx2kBL"
      },
      "execution_count": null,
      "outputs": []
    },
    {
      "cell_type": "code",
      "source": [
        "#câu 9: Đếm số lần xuất hiện của các chữ cái có trong chuỗi kí tự cho trước.\n",
        "def is_existed(data, key, to):\n",
        "    \"\"\"This function check whether or not key exist in list data\"\"\"\n",
        "    for index in range(0, to):\n",
        "        if data[index] == key:\n",
        "            return True\n",
        "    return False\n",
        "\n",
        "\n",
        "def create_unique_characters(data):\n",
        "    \"\"\"This function filter and create a list contain only one-time occurrence characters\"\"\"\n",
        "    result = []\n",
        "    for j in range(0, len(data)):\n",
        "        # if character at j position is alphabet, and doesn't exist before\n",
        "        if data[j].isalpha() and not is_existed(data, data[j], j):\n",
        "            result.append(data[j])\n",
        "    return result\n",
        "\n",
        "\n",
        "def listed_characters(data, unique_data):\n",
        "    \"\"\"This function listed words and number occurent of each character\"\"\"\n",
        "    print(\"[\", end=\"\")\n",
        "    size = len(unique_data)\n",
        "    for j in range(0, size):\n",
        "        print(f\"{unique_data[j]}: {data.count(unique_data[j])}\", end=\"\")\n",
        "        if j < size - 1:\n",
        "            print(\", \", end=\"\")\n",
        "    print(\"]\")\n",
        "\n",
        "\n",
        "t = int(input())\n",
        "for i in range(1, t + 1):\n",
        "    s = input()\n",
        "    print(f\"Test {i}:\")\n",
        "    characters = create_unique_characters(s)\n",
        "    listed_characters(s, characters)"
      ],
      "metadata": {
        "colab": {
          "base_uri": "https://localhost:8080/"
        },
        "id": "Rxie2svK7Std",
        "outputId": "d80761c5-518d-4c78-82de-cd35de997b86"
      },
      "execution_count": 67,
      "outputs": [
        {
          "output_type": "stream",
          "name": "stdout",
          "text": [
            "3\n",
            "kbllknlknlk ,mbk,bkjbkjhjchg\n",
            "Test 1:\n",
            "[k: 7, b: 4, l: 4, n: 2, m: 1, j: 3, h: 2, c: 1, g: 1]\n",
            "jbkjbjbkb hvjvjhvjhvjv jbkblkblkb kjblkblkb\n",
            "Test 2:\n",
            "[j: 9, b: 11, k: 8, h: 3, v: 5, l: 4]\n",
            "lguyvkuvkucv 564465kghvkhv\n",
            "Test 3:\n",
            "[l: 1, g: 2, u: 3, y: 1, v: 5, k: 4, c: 1, h: 2]\n"
          ]
        }
      ]
    },
    {
      "cell_type": "code",
      "source": [
        "# bài 3: Đếm số từ có trong một chuỗi kí tự cho trước nhập vào từ bàn phím.\n",
        "def count_word():\n",
        "  string = input('Nhập chuỗi vào:')\n",
        "  word = string.split()\n",
        "  return len(word)\n",
        "\n",
        "t = int(input('Nhập vào số bộ test:'))\n",
        "for i in range(1,t+1):\n",
        "  result = count_word()\n",
        "  print(f'Test {i}: {result}')"
      ],
      "metadata": {
        "colab": {
          "base_uri": "https://localhost:8080/"
        },
        "id": "cpsTMZpI6YPV",
        "outputId": "bb147cb6-7f54-4c33-a51e-a2cd54617baf"
      },
      "execution_count": 68,
      "outputs": [
        {
          "output_type": "stream",
          "name": "stdout",
          "text": [
            "Nhập vào số bộ test:3\n",
            "Nhập chuỗi vào:madagatca colisiba\n",
            "Test 1: 2\n",
            "Nhập chuỗi vào:talagosiba lolocatia\n",
            "Test 2: 2\n",
            "Nhập chuỗi vào:kakathamaza sáas ấy da\n",
            "Test 3: 4\n"
          ]
        }
      ]
    }
  ]
}